{
 "cells": [
  {
   "cell_type": "code",
   "execution_count": 40,
   "id": "eeb2459c",
   "metadata": {},
   "outputs": [],
   "source": [
    "from mtcnn import MTCNN\n",
    "import cv2"
   ]
  },
  {
   "cell_type": "code",
   "execution_count": 43,
   "id": "3251796e",
   "metadata": {},
   "outputs": [],
   "source": [
    "image=cv2.imread(\"IMG_3773.jpeg\")\n",
    "image = cv2.resize(image,(300,400))\n",
    "cv2.imshow('img',image)\n",
    "cv2.waitKey(0)\n",
    "cv2.destroyAllWindows()"
   ]
  },
  {
   "cell_type": "code",
   "execution_count": 8,
   "id": "dcc1ccaf",
   "metadata": {},
   "outputs": [],
   "source": [
    "img = image\n",
    "face_cascade = cv2.CascadeClassifier(cv2.data.haarcascades+'haarcascade_frontalface_default.xml')\n",
    "eye_cascade = cv2.CascadeClassifier(cv2.data.haarcascades+'haarcascade_eye.xml')\n",
    "gray = cv2.cvtColor(image, cv2.COLOR_BGR2GRAY)\n",
    "faces = face_cascade.detectMultiScale(gray, 1.3, 5)\n",
    "for (x,y,w,h) in faces:\n",
    "    cv2.rectangle(img,(x,y),(x+w,y+h),(255,0,0),1)\n",
    "    roi_gray = gray[y:y+h, x:x+w]\n",
    "    roi_color = img[y:y+h, x:x+w]\n",
    "    eyes = eye_cascade.detectMultiScale(roi_gray)\n",
    "    for (ex,ey,ew,eh) in eyes:\n",
    "        cv2.rectangle(roi_color,(ex,ey),(ex+ew,ey+eh),(255,0,0),1)\n",
    "\n",
    "cv2.imshow('img',img)\n",
    "cv2.waitKey(0)\n",
    "cv2.destroyAllWindows()"
   ]
  },
  {
   "cell_type": "code",
   "execution_count": 44,
   "id": "eee73d5c",
   "metadata": {},
   "outputs": [
    {
     "name": "stdout",
     "output_type": "stream",
     "text": [
      "[{'box': [91, 121, 88, 116], 'confidence': 0.9517207741737366, 'keypoints': {'left_eye': (108, 163), 'right_eye': (146, 162), 'nose': (114, 188), 'mouth_left': (111, 215), 'mouth_right': (136, 213)}}]\n"
     ]
    }
   ],
   "source": [
    "img = cv2.cvtColor(image, cv2.COLOR_BGR2RGB)\n",
    "detector = MTCNN()\n",
    "face=detector.detect_faces(img)\n",
    "print(face)"
   ]
  },
  {
   "cell_type": "code",
   "execution_count": 45,
   "id": "6852fe1b",
   "metadata": {},
   "outputs": [],
   "source": [
    "x,y,w,h = face[0][\"box\"]\n",
    "start_point = (x,y) #left top conner\n",
    "end_point = (x+w,y+h)\n",
    "color = (255, 0, 0) \n",
    "thickness = 1 #Pixel unit\n",
    "\n",
    "img = cv2.circle(img, (face[0][\"keypoints\"][\"mouth_left\"][0],face[0][\"keypoints\"][\"mouth_left\"][1]), radius=0, color=(0, 0, 255), thickness=-1)\n",
    "img = cv2.circle(img, (face[0][\"keypoints\"][\"mouth_right\"][0],face[0][\"keypoints\"][\"mouth_right\"][1]), radius=0, color=(0, 0, 255), thickness=-1)\n",
    "\n",
    "img = cv2.rectangle(img, start_point, end_point, color, thickness)\n",
    "cv2.imshow(\"face\",cv2.cvtColor(img,cv2.COLOR_RGB2BGR))\n",
    "cv2.waitKey(0)  \n",
    "cv2.destroyAllWindows() "
   ]
  },
  {
   "cell_type": "code",
   "execution_count": null,
   "id": "68df24d3",
   "metadata": {},
   "outputs": [],
   "source": []
  }
 ],
 "metadata": {
  "kernelspec": {
   "display_name": "Python 3 (ipykernel)",
   "language": "python",
   "name": "python3"
  },
  "language_info": {
   "codemirror_mode": {
    "name": "ipython",
    "version": 3
   },
   "file_extension": ".py",
   "mimetype": "text/x-python",
   "name": "python",
   "nbconvert_exporter": "python",
   "pygments_lexer": "ipython3",
   "version": "3.9.7"
  }
 },
 "nbformat": 4,
 "nbformat_minor": 5
}
